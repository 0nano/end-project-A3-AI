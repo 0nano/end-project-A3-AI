{
 "cells": [
  {
   "attachments": {},
   "cell_type": "markdown",
   "metadata": {},
   "source": [
    "# Fonctionnalité 4"
   ]
  },
  {
   "cell_type": "code",
   "execution_count": 4,
   "metadata": {},
   "outputs": [],
   "source": [
    "from sklearn.cluster import KMeans\n",
    "import json\n",
    "import pandas as pd\n"
   ]
  },
  {
   "attachments": {},
   "cell_type": "markdown",
   "metadata": {},
   "source": [
    "## Script pour l’apprentissage non-supervisé "
   ]
  },
  {
   "cell_type": "code",
   "execution_count": 5,
   "metadata": {},
   "outputs": [
    {
     "name": "stderr",
     "output_type": "stream",
     "text": [
      "/home/isen/.local/lib/python3.7/site-packages/IPython/core/interactiveshell.py:3553: DtypeWarning: Columns (0,22) have mixed types.Specify dtype option on import or set low_memory=False.\n",
      "  exec(code_obj, self.user_global_ns, self.user_ns)\n"
     ]
    }
   ],
   "source": [
    "#convertir le csv en pandas dataframe\n",
    "dataframe = pd.read_csv('export_IA.csv', sep=',')"
   ]
  },
  {
   "cell_type": "code",
   "execution_count": 16,
   "metadata": {},
   "outputs": [],
   "source": [
    "# Récupération des coordonnées\n",
    "co = dataframe[['latitude.x', 'longitude.x']]\n",
    "\n",
    "# Calculer les centroides\n",
    "region_data = dataframe.groupby('region_name')\n",
    "centroids = region_data.mean()[['latitude.x', 'longitude.x']]\n",
    "\n",
    "#appliquer la méthode kmeans avec comme entrée les coordonnées et les centroides\n",
    "kmeans = KMeans(n_clusters=13, random_state=0)\n",
    "kmeans.fit(co, centroids)\n",
    "\n",
    "# Récupération des labels de cluster pour chaque point\n",
    "clusters = kmeans.labels_\n",
    "\n",
    "# Ajout des labels de cluster à la dataframe originale\n",
    "dataframe['clusters'] = clusters\n",
    "\n",
    "# Conversion de la dataframe en JSON\n",
    "result_json = dataframe[['Num_Acc', 'clusters']].to_json(orient='records')\n",
    "\n",
    "# Enregistrement du JSON dans un fichier\n",
    "with open('clusters.json', 'w') as outfile:\n",
    "    outfile.write(result_json)\n",
    "\n"
   ]
  }
 ],
 "metadata": {
  "kernelspec": {
   "display_name": "Python 3",
   "language": "python",
   "name": "python3"
  },
  "language_info": {
   "codemirror_mode": {
    "name": "ipython",
    "version": 3
   },
   "file_extension": ".py",
   "mimetype": "text/x-python",
   "name": "python",
   "nbconvert_exporter": "python",
   "pygments_lexer": "ipython3",
   "version": "3.7.3"
  },
  "orig_nbformat": 4
 },
 "nbformat": 4,
 "nbformat_minor": 2
}
