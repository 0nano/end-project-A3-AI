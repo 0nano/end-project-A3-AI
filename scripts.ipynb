{
 "cells": [
  {
   "cell_type": "markdown",
   "source": [
    "# Fonctionnalité 4"
   ],
   "metadata": {
    "collapsed": false,
    "pycharm": {
     "name": "#%% md\n"
    }
   }
  },
  {
   "cell_type": "code",
   "execution_count": null,
   "outputs": [],
   "source": [
    "from sklearn.cluster import KMeans\n",
    "import json\n",
    "import pandas as pd\n"
   ],
   "metadata": {
    "collapsed": false,
    "pycharm": {
     "name": "#%%\n"
    }
   }
  },
  {
   "cell_type": "code",
   "execution_count": null,
   "outputs": [],
   "source": [
    "#convertir le csv en pandas dataframe\n",
    "dataframe = pd.read_csv('export_IA.csv', sep=',')"
   ],
   "metadata": {
    "collapsed": false,
    "pycharm": {
     "name": "#%%\n"
    }
   }
  },
  {
   "cell_type": "markdown",
   "source": [
    "## Script pour l’apprentissage non-supervisé "
   ],
   "metadata": {
    "collapsed": false,
    "pycharm": {
     "name": "#%% md\n"
    }
   }
  },
  {
   "cell_type": "code",
   "execution_count": null,
   "outputs": [],
   "source": [
    "def script1(co_x, co_y):\n",
    "    # Récupération des coordonnées et des clusters\n",
    "    co = dataframe[['latitude.x', 'longitude.x']]\n",
    "    dataframe['clusters'] = clusters\n",
    "\n",
    "    # Calcul des centroides\n",
    "    region_data = dataframe.groupby('region_name')\n",
    "    centroids = region_data.mean()[['latitude.x', 'longitude.x']]\n",
    "\n",
    "    # Application de la méthode k-means avec les coordonnées et les centroides\n",
    "    kmeans = KMeans(n_clusters=13, random_state=0)\n",
    "    kmeans.fit(co, centroids)\n",
    "\n",
    "    # Prédiction du cluster pour les coordonnées fournies en argument\n",
    "    coordonnées_nouvel_accident = pd.DataFrame({'latitude.x': [co_x], 'longitude.x': [co_y]})\n",
    "    cluster_associé = kmeans.predict(coordonnées_nouvel_accident)[0]\n",
    "\n",
    "    # Récupération du numéro d'accident associé au cluster\n",
    "    num_accident = dataframe[dataframe['clusters'] == cluster_associé]['Num_Acc'].values[0]\n",
    "\n",
    "    # Création du dictionnaire JSON\n",
    "    result = {'Num_Acc': int(num_accident),\n",
    "              'cluster': int(cluster_associé)}\n",
    "\n",
    "    # Conversion du dictionnaire en JSON\n",
    "    result_json = json.dumps(result)\n",
    "\n",
    "    return result_json\n",
    "\n",
    "script1(48.2, 4.2)"
   ],
   "metadata": {
    "collapsed": false,
    "pycharm": {
     "name": "#%%\n"
    }
   }
  },
  {
   "cell_type": "code",
   "execution_count": 4,
   "metadata": {
    "pycharm": {
     "name": "#%%\n"
    }
   },
   "outputs": [],
   "source": [
    "from sklearn.cluster import KMeans\n",
    "import json\n",
    "import pandas as pd\n"
   ]
  },
  {
   "cell_type": "code",
   "execution_count": 27,
   "metadata": {
    "pycharm": {
     "name": "#%%\n"
    }
   },
   "outputs": [
    {
     "name": "stderr",
     "output_type": "stream",
     "text": [
      "/home/isen/.local/lib/python3.7/site-packages/IPython/core/interactiveshell.py:3553: DtypeWarning: Columns (0,22) have mixed types.Specify dtype option on import or set low_memory=False.\n",
      "  exec(code_obj, self.user_global_ns, self.user_ns)\n"
     ]
    }
   ],
   "source": [
    "#convertir le csv en pandas dataframe\n",
    "dataframe = pd.read_csv('export_IA.csv', sep=',')"
   ]
  },
  {
   "attachments": {},
   "cell_type": "markdown",
   "metadata": {
    "pycharm": {
     "name": "#%% md\n"
    }
   },
   "source": [
    "## Script pour l’apprentissage non-supervisé "
   ]
  },
  {
   "cell_type": "code",
   "execution_count": 30,
   "metadata": {
    "pycharm": {
     "name": "#%%\n"
    }
   },
   "outputs": [
    {
     "data": {
      "text/plain": [
       "'{\"Num_Acc\": 200900035904, \"cluster\": 8}'"
      ]
     },
     "execution_count": 30,
     "metadata": {},
     "output_type": "execute_result"
    }
   ],
   "source": [
    "def script1(co_x, co_y):\n",
    "    # Récupération des coordonnées et des clusters\n",
    "    co = dataframe[['latitude.x', 'longitude.x']]\n",
    "    dataframe['clusters'] = clusters\n",
    "\n",
    "    # Calcul des centroides\n",
    "    region_data = dataframe.groupby('region_name')\n",
    "    centroids = region_data.mean()[['latitude.x', 'longitude.x']]\n",
    "\n",
    "    # Application de la méthode k-means avec les coordonnées et les centroides\n",
    "    kmeans = KMeans(n_clusters=13, random_state=0)\n",
    "    kmeans.fit(co, centroids)\n",
    "\n",
    "    # Prédiction du cluster pour les coordonnées fournies en argument\n",
    "    coordonnées_nouvel_accident = pd.DataFrame({'latitude.x': [co_x], 'longitude.x': [co_y]})\n",
    "    cluster_associé = kmeans.predict(coordonnées_nouvel_accident)[0]\n",
    "\n",
    "    # Récupération du numéro d'accident associé au cluster\n",
    "    num_accident = dataframe[dataframe['clusters'] == cluster_associé]['Num_Acc'].values[0]\n",
    "\n",
    "    # Création du dictionnaire JSON\n",
    "    result = {'Num_Acc': int(num_accident),\n",
    "              'cluster': int(cluster_associé)}\n",
    "\n",
    "    # Conversion du dictionnaire en JSON\n",
    "    result_json = json.dumps(result)\n",
    "\n",
    "    return result_json\n",
    "\n",
    "script1(48.2, 4.2)"
   ]
  }
 ],
 "metadata": {
  "kernelspec": {
   "display_name": "Python 3",
   "language": "python",
   "name": "python3"
  },
  "language_info": {
   "codemirror_mode": {
    "name": "ipython",
    "version": 3
   },
   "file_extension": ".py",
   "mimetype": "text/x-python",
   "name": "python",
   "nbconvert_exporter": "python",
   "pygments_lexer": "ipython3",
   "version": "3.7.3"
  },
  "orig_nbformat": 4
 },
 "nbformat": 4,
 "nbformat_minor": 2
}