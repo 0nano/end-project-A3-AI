{
 "cells": [
  {
   "cell_type": "code",
   "execution_count": 1,
   "metadata": {},
   "outputs": [],
   "source": [
    "############################## IMPORTS ##############################\n",
    "import pandas as pd\n",
    "import numpy as np\n",
    "import matplotlib.pyplot as plt"
   ]
  },
  {
   "attachments": {},
   "cell_type": "markdown",
   "metadata": {},
   "source": [
    "# Organisation des données"
   ]
  },
  {
   "cell_type": "code",
   "execution_count": 2,
   "metadata": {},
   "outputs": [],
   "source": [
    "#convertir le csv en pandas dataframe\n",
    "dataframe = pd.read_csv('export_IA.csv', sep=',', engine='c', encoding='utf-8', low_memory=False)"
   ]
  },
  {
   "attachments": {},
   "cell_type": "markdown",
   "metadata": {},
   "source": [
    "# Découverte des données"
   ]
  },
  {
   "attachments": {},
   "cell_type": "markdown",
   "metadata": {},
   "source": [
    "### Valeur cible (gravité de l’accident) pour la classification = classe"
   ]
  },
  {
   "cell_type": "code",
   "execution_count": 3,
   "metadata": {},
   "outputs": [
    {
     "name": "stdout",
     "output_type": "stream",
     "text": [
      "Valeur cible 1 :  id_code_insee  -  8258\n",
      "Valeur cible 2 :  Num_Acc  -  40250\n",
      "Valeur cible 3 :  num_veh  -  58\n",
      "Valeur cible 4 :  id_usa  -  73643\n",
      "Valeur cible 5 :  date  -  29950\n",
      "Valeur cible 6 :  ville  -  8078\n",
      "Valeur cible 7 :  latitude.x  -  1253\n",
      "Valeur cible 8 :  longitude.x  -  1495\n",
      "Valeur cible 9 :  descr_cat_veh  -  24\n",
      "Valeur cible 10 :  descr_agglo  -  2\n",
      "Valeur cible 11 :  descr_athmo  -  9\n",
      "Valeur cible 12 :  descr_lum  -  5\n",
      "Valeur cible 13 :  descr_etat_surf  -  9\n",
      "Valeur cible 14 :  description_intersection  -  9\n",
      "Valeur cible 15 :  an_nais  -  101\n",
      "Valeur cible 16 :  age  -  101\n",
      "Valeur cible 17 :  place  -  10\n",
      "Valeur cible 18 :  descr_dispo_secu  -  15\n",
      "Valeur cible 19 :  descr_grav  -  4\n",
      "Valeur cible 20 :  descr_motif_traj  -  6\n",
      "Valeur cible 21 :  descr_type_col  -  7\n",
      "Valeur cible 22 :  department_name  -  89\n",
      "Valeur cible 23 :  department_number  -  89\n",
      "Valeur cible 24 :  region_name  -  17\n"
     ]
    }
   ],
   "source": [
    "#compte les différents résultats pour chaque colonne\n",
    "for i in range(len(dataframe.columns)):\n",
    "    print(\"Valeur cible\", i+1,  \": \", dataframe.columns[i], \" - \", len(dataframe[dataframe.columns[i]].unique()))"
   ]
  },
  {
   "attachments": {},
   "cell_type": "markdown",
   "metadata": {},
   "source": [
    "### Nombre d'instances"
   ]
  },
  {
   "cell_type": "code",
   "execution_count": 4,
   "metadata": {},
   "outputs": [
    {
     "name": "stdout",
     "output_type": "stream",
     "text": [
      "Nombre d'instances :  73643\n"
     ]
    }
   ],
   "source": [
    "#compte le nombre d'instances et renvoie juste le nombre\n",
    "print(\"Nombre d'instances : \", len(dataframe.index))"
   ]
  },
  {
   "attachments": {},
   "cell_type": "markdown",
   "metadata": {},
   "source": [
    "### Nombre d'instances par classe"
   ]
  },
  {
   "cell_type": "code",
   "execution_count": 5,
   "metadata": {},
   "outputs": [
    {
     "data": {
      "text/plain": [
       "<Axes: xlabel='descr_grav'>"
      ]
     },
     "execution_count": 5,
     "metadata": {},
     "output_type": "execute_result"
    },
    {
     "data": {
      "image/png": "[encoded data removed]",
      "text/plain": [
       "<Figure size 640x480 with 1 Axes>"
      ]
     },
     "metadata": {},
     "output_type": "display_data"
    }
   ],
   "source": [
    "\n",
    "#creer un tableau qui affiche les données selon les descr_grav\n",
    "graphique1 = dataframe.groupby('descr_grav').size()\n",
    "#représenter en graphique \n",
    "graphique1.plot.bar()"
   ]
  },
  {
   "attachments": {},
   "cell_type": "markdown",
   "metadata": {},
   "source": [
    "### Taille des features"
   ]
  },
  {
   "cell_type": "code",
   "execution_count": 6,
   "metadata": {},
   "outputs": [
    {
     "name": "stdout",
     "output_type": "stream",
     "text": [
      "Taille des features :  23\n"
     ]
    }
   ],
   "source": [
    "# Taille des features\n",
    "print(\"Taille des features : \", len(dataframe.columns)-1)"
   ]
  },
  {
   "attachments": {},
   "cell_type": "markdown",
   "metadata": {},
   "source": [
    "# Préparation des données"
   ]
  },
  {
   "cell_type": "code",
   "execution_count": 7,
   "metadata": {},
   "outputs": [
    {
     "name": "stdout",
     "output_type": "stream",
     "text": [
      "  id_code_insee       Num_Acc num_veh  id_usa            date  \\\n",
      "0         10100  200900035904     A01  823507  20090803130000   \n",
      "1         10100  200900004313     A01  752937  20090227223000   \n",
      "2         10102  200900005197     A01  754945  20090113160000   \n",
      "3         10102  200900005197     B02  754947  20090113160000   \n",
      "4         10102  200900005206     A01  754970  20090209201500   \n",
      "\n",
      "              ville  latitude.x  longitude.x  descr_cat_veh  descr_agglo  ...  \\\n",
      "0            CLEREY     48.2000          4.2              2            1  ...   \n",
      "1            CLEREY     48.2000          4.2              3            2  ...   \n",
      "2  COLOMBE LA FOSSE     48.2667          4.8              3            2  ...   \n",
      "3  COLOMBE LA FOSSE     48.2667          4.8              3            2  ...   \n",
      "4  COLOMBE LA FOSSE     48.2667          4.8              6            2  ...   \n",
      "\n",
      "   an_nais   age  place                         descr_dispo_secu  descr_grav  \\\n",
      "0   1952.0  57.0    1.0  Utilisation d'une ceinture de sécurité            0   \n",
      "1   1952.0  57.0    1.0  Utilisation d'une ceinture de sécurité            2   \n",
      "2   1969.0  40.0    1.0  Utilisation d'une ceinture de sécurité            2   \n",
      "3   1939.0  70.0    1.0  Utilisation d'une ceinture de sécurité            0   \n",
      "4   1966.0  43.0    1.0                 Utilisation d'un casque            1   \n",
      "\n",
      "   descr_motif_traj                descr_type_col department_name  \\\n",
      "0                 1               Autre collision            aube   \n",
      "1                 9     Deux véhicules - Frontale            aube   \n",
      "2                 5  Deux véhicules – Par le coté            aube   \n",
      "3                 5  Deux véhicules – Par le coté            aube   \n",
      "4                 1                Sans collision            aube   \n",
      "\n",
      "   department_number  region_name  \n",
      "0                 10    grand est  \n",
      "1                 10    grand est  \n",
      "2                 10    grand est  \n",
      "3                 10    grand est  \n",
      "4                 10    grand est  \n",
      "\n",
      "[5 rows x 24 columns]\n"
     ]
    }
   ],
   "source": [
    "# On détecte l'OS et on execute la bonne commande pour la préparation des données de date\n",
    "import platform\n",
    "if platform.system() == 'Windows':\n",
    "    # préparation des données, conversions des dates et des heures en entier sans les séparateurs\n",
    "    dataframe['date'] = pd.to_datetime(dataframe['date'], format='%Y-%m-%d %H:%M:%S').dt.strftime('%Y%m%d%H%M%S').astype('Int64')\n",
    "else :\n",
    "    # préparation des données, conversions des dates et des heures en entier sans les séparateurs\n",
    "    dataframe['date'] = pd.to_datetime(dataframe['date'], format='%Y-%m-%d %H:%M:%S').dt.strftime('%Y%m%d%H%M%S').astype(int)\n",
    "\n",
    "\n",
    "print(dataframe.head())"
   ]
  },
  {
   "cell_type": "code",
   "execution_count": 8,
   "metadata": {},
   "outputs": [],
   "source": [
    "# Transformartion des codes_insee en entier, en remplacant les A et B par 0\n",
    "dataframe['id_code_insee'] = dataframe['id_code_insee'].str.replace('A', '0')\n",
    "dataframe['id_code_insee'] = dataframe['id_code_insee'].str.replace('B', '0')\n",
    "\n",
    "# On supprime la colonne 'num_veh' et 'ville' car elles ne nous sont pas utiles\n",
    "dataframe = dataframe.drop('num_veh', axis=1)\n",
    "dataframe = dataframe.drop('ville', axis=1)"
   ]
  },
  {
   "cell_type": "code",
   "execution_count": 9,
   "metadata": {},
   "outputs": [],
   "source": [
    "# On tranforme la colonne 'descr_type_col' en entier\n",
    "echelle = dataframe['descr_type_col'].unique()\n",
    "dataframe['descr_type_col'] = dataframe['descr_type_col'].replace(echelle, [0,1,2,3,4,5,6])"
   ]
  },
  {
   "cell_type": "code",
   "execution_count": 10,
   "metadata": {},
   "outputs": [],
   "source": [
    "# On transforme la colonne 'descr_dispo_secu' en entier\n",
    "echelle = dataframe['descr_dispo_secu'].unique()\n",
    "dataframe['descr_dispo_secu'] = dataframe['descr_dispo_secu'].replace(echelle, [0,1,2,3,4,5,6,7,8,9,10,11,12,13,14])"
   ]
  },
  {
   "cell_type": "code",
   "execution_count": 2,
   "metadata": {},
   "outputs": [
    {
     "name": "stdout",
     "output_type": "stream",
     "text": [
      "cc\n"
     ]
    }
   ],
   "source": [
    "print('cc')"
   ]
  },
  {
   "cell_type": "code",
   "execution_count": 11,
   "metadata": {},
   "outputs": [],
   "source": [
    "# On supprime la colonne 'department_name' car elle ne nous est pas utile\n",
    "dataframe = dataframe.drop('department_name', axis=1)"
   ]
  },
  {
   "cell_type": "code",
   "execution_count": 12,
   "metadata": {},
   "outputs": [],
   "source": [
    "# On ajoute une colonne 'region_number' qui contient le numéro de la région selon le region_name\n",
    "REGIONS = {\n",
    "    'auvergne-rhône-alpes': '84',\n",
    "    'bourgogne-franche-comté': '27',\n",
    "    'bretagne': '53',\n",
    "    'centre-val de loire': '24',\n",
    "    'corse': '94',\n",
    "    'grand est': '44',\n",
    "    'guadeloupe': '01',\n",
    "    'guyane': '03',\n",
    "    'hauts-de-france': '32',\n",
    "    'île-de-france': '11',\n",
    "    'la réunion': '04',\n",
    "    'martinique': '02',\n",
    "    'normandie': '28',\n",
    "    'nouvelle-aquitaine': '75',\n",
    "    'occitanie': '76',\n",
    "    'pays de la loire': '52',\n",
    "    'provence-alpes-côte d\\'azur': '93'\n",
    "}\n",
    "\n",
    "# On ajoute une colonne 'region_number' qui contient le numéro de la région selon le region_name et REGIONS\n",
    "# On met en minuscule les clés de régions pour éviter les erreurs\n",
    "dataframe['region_number'] = dataframe['region_name'].replace(REGIONS)\n",
    "dataframe = dataframe.drop('region_name', axis=1)"
   ]
  },
  {
   "cell_type": "code",
   "execution_count": 13,
   "metadata": {},
   "outputs": [],
   "source": [
    "# On remplace le A et le B par un 0 dans le departement_number\n",
    "dataframe['department_number'] = dataframe['department_number'].str.replace('A', '0')\n",
    "dataframe['department_number'] = dataframe['department_number'].str.replace('B', '0')"
   ]
  },
  {
   "cell_type": "code",
   "execution_count": 14,
   "metadata": {},
   "outputs": [
    {
     "data": {
      "text/html": [
       "<div>\n",
       "<style scoped>\n",
       "    .dataframe tbody tr th:only-of-type {\n",
       "        vertical-align: middle;\n",
       "    }\n",
       "\n",
       "    .dataframe tbody tr th {\n",
       "        vertical-align: top;\n",
       "    }\n",
       "\n",
       "    .dataframe thead th {\n",
       "        text-align: right;\n",
       "    }\n",
       "</style>\n",
       "<table border=\"1\" class=\"dataframe\">\n",
       "  <thead>\n",
       "    <tr style=\"text-align: right;\">\n",
       "      <th></th>\n",
       "      <th>id_code_insee</th>\n",
       "      <th>Num_Acc</th>\n",
       "      <th>id_usa</th>\n",
       "      <th>date</th>\n",
       "      <th>latitude.x</th>\n",
       "      <th>longitude.x</th>\n",
       "      <th>descr_cat_veh</th>\n",
       "      <th>descr_agglo</th>\n",
       "      <th>descr_athmo</th>\n",
       "      <th>descr_lum</th>\n",
       "      <th>...</th>\n",
       "      <th>description_intersection</th>\n",
       "      <th>an_nais</th>\n",
       "      <th>age</th>\n",
       "      <th>place</th>\n",
       "      <th>descr_dispo_secu</th>\n",
       "      <th>descr_grav</th>\n",
       "      <th>descr_motif_traj</th>\n",
       "      <th>descr_type_col</th>\n",
       "      <th>department_number</th>\n",
       "      <th>region_number</th>\n",
       "    </tr>\n",
       "  </thead>\n",
       "  <tbody>\n",
       "    <tr>\n",
       "      <th>73543</th>\n",
       "      <td>97416</td>\n",
       "      <td>200900072581</td>\n",
       "      <td>905216</td>\n",
       "      <td>20090125165500</td>\n",
       "      <td>6.87387</td>\n",
       "      <td>43.6566</td>\n",
       "      <td>3</td>\n",
       "      <td>2</td>\n",
       "      <td>4</td>\n",
       "      <td>2</td>\n",
       "      <td>...</td>\n",
       "      <td>1</td>\n",
       "      <td>1967.0</td>\n",
       "      <td>42.0</td>\n",
       "      <td>1.204853</td>\n",
       "      <td>7</td>\n",
       "      <td>1</td>\n",
       "      <td>9</td>\n",
       "      <td>0</td>\n",
       "      <td>974</td>\n",
       "      <td>04</td>\n",
       "    </tr>\n",
       "    <tr>\n",
       "      <th>73544</th>\n",
       "      <td>97416</td>\n",
       "      <td>200900074573</td>\n",
       "      <td>909551</td>\n",
       "      <td>20091029081500</td>\n",
       "      <td>6.87387</td>\n",
       "      <td>43.6566</td>\n",
       "      <td>3</td>\n",
       "      <td>2</td>\n",
       "      <td>4</td>\n",
       "      <td>2</td>\n",
       "      <td>...</td>\n",
       "      <td>1</td>\n",
       "      <td>1947.0</td>\n",
       "      <td>62.0</td>\n",
       "      <td>1.204853</td>\n",
       "      <td>7</td>\n",
       "      <td>2</td>\n",
       "      <td>9</td>\n",
       "      <td>3</td>\n",
       "      <td>974</td>\n",
       "      <td>04</td>\n",
       "    </tr>\n",
       "    <tr>\n",
       "      <th>73545</th>\n",
       "      <td>97416</td>\n",
       "      <td>200900072724</td>\n",
       "      <td>905477</td>\n",
       "      <td>20090323191500</td>\n",
       "      <td>6.87387</td>\n",
       "      <td>43.6566</td>\n",
       "      <td>17</td>\n",
       "      <td>1</td>\n",
       "      <td>4</td>\n",
       "      <td>3</td>\n",
       "      <td>...</td>\n",
       "      <td>1</td>\n",
       "      <td>1992.0</td>\n",
       "      <td>17.0</td>\n",
       "      <td>1.000000</td>\n",
       "      <td>5</td>\n",
       "      <td>1</td>\n",
       "      <td>5</td>\n",
       "      <td>4</td>\n",
       "      <td>974</td>\n",
       "      <td>04</td>\n",
       "    </tr>\n",
       "    <tr>\n",
       "      <th>73546</th>\n",
       "      <td>97416</td>\n",
       "      <td>200900073649</td>\n",
       "      <td>907567</td>\n",
       "      <td>20090726171500</td>\n",
       "      <td>6.87387</td>\n",
       "      <td>43.6566</td>\n",
       "      <td>3</td>\n",
       "      <td>1</td>\n",
       "      <td>4</td>\n",
       "      <td>2</td>\n",
       "      <td>...</td>\n",
       "      <td>1</td>\n",
       "      <td>1986.0</td>\n",
       "      <td>23.0</td>\n",
       "      <td>1.000000</td>\n",
       "      <td>0</td>\n",
       "      <td>0</td>\n",
       "      <td>5</td>\n",
       "      <td>4</td>\n",
       "      <td>974</td>\n",
       "      <td>04</td>\n",
       "    </tr>\n",
       "    <tr>\n",
       "      <th>73547</th>\n",
       "      <td>97416</td>\n",
       "      <td>200900074565</td>\n",
       "      <td>909534</td>\n",
       "      <td>20091208080000</td>\n",
       "      <td>6.87387</td>\n",
       "      <td>43.6566</td>\n",
       "      <td>3</td>\n",
       "      <td>1</td>\n",
       "      <td>4</td>\n",
       "      <td>2</td>\n",
       "      <td>...</td>\n",
       "      <td>1</td>\n",
       "      <td>1961.0</td>\n",
       "      <td>48.0</td>\n",
       "      <td>1.000000</td>\n",
       "      <td>4</td>\n",
       "      <td>0</td>\n",
       "      <td>9</td>\n",
       "      <td>4</td>\n",
       "      <td>974</td>\n",
       "      <td>04</td>\n",
       "    </tr>\n",
       "    <tr>\n",
       "      <th>...</th>\n",
       "      <td>...</td>\n",
       "      <td>...</td>\n",
       "      <td>...</td>\n",
       "      <td>...</td>\n",
       "      <td>...</td>\n",
       "      <td>...</td>\n",
       "      <td>...</td>\n",
       "      <td>...</td>\n",
       "      <td>...</td>\n",
       "      <td>...</td>\n",
       "      <td>...</td>\n",
       "      <td>...</td>\n",
       "      <td>...</td>\n",
       "      <td>...</td>\n",
       "      <td>...</td>\n",
       "      <td>...</td>\n",
       "      <td>...</td>\n",
       "      <td>...</td>\n",
       "      <td>...</td>\n",
       "      <td>...</td>\n",
       "      <td>...</td>\n",
       "    </tr>\n",
       "    <tr>\n",
       "      <th>73638</th>\n",
       "      <td>97423</td>\n",
       "      <td>200900073933</td>\n",
       "      <td>908050</td>\n",
       "      <td>20090810131500</td>\n",
       "      <td>55.29520</td>\n",
       "      <td>-21.1059</td>\n",
       "      <td>15</td>\n",
       "      <td>1</td>\n",
       "      <td>4</td>\n",
       "      <td>2</td>\n",
       "      <td>...</td>\n",
       "      <td>1</td>\n",
       "      <td>1979.0</td>\n",
       "      <td>30.0</td>\n",
       "      <td>1.000000</td>\n",
       "      <td>1</td>\n",
       "      <td>2</td>\n",
       "      <td>5</td>\n",
       "      <td>1</td>\n",
       "      <td>974</td>\n",
       "      <td>04</td>\n",
       "    </tr>\n",
       "    <tr>\n",
       "      <th>73639</th>\n",
       "      <td>97423</td>\n",
       "      <td>200900072904</td>\n",
       "      <td>905890</td>\n",
       "      <td>20090506063000</td>\n",
       "      <td>55.29520</td>\n",
       "      <td>-21.1059</td>\n",
       "      <td>2</td>\n",
       "      <td>1</td>\n",
       "      <td>4</td>\n",
       "      <td>1</td>\n",
       "      <td>...</td>\n",
       "      <td>1</td>\n",
       "      <td>1953.0</td>\n",
       "      <td>56.0</td>\n",
       "      <td>1.000000</td>\n",
       "      <td>0</td>\n",
       "      <td>0</td>\n",
       "      <td>1</td>\n",
       "      <td>1</td>\n",
       "      <td>974</td>\n",
       "      <td>04</td>\n",
       "    </tr>\n",
       "    <tr>\n",
       "      <th>73640</th>\n",
       "      <td>97424</td>\n",
       "      <td>200900073058</td>\n",
       "      <td>906209</td>\n",
       "      <td>20090621190000</td>\n",
       "      <td>55.46970</td>\n",
       "      <td>-21.1367</td>\n",
       "      <td>17</td>\n",
       "      <td>1</td>\n",
       "      <td>4</td>\n",
       "      <td>3</td>\n",
       "      <td>...</td>\n",
       "      <td>1</td>\n",
       "      <td>1962.0</td>\n",
       "      <td>47.0</td>\n",
       "      <td>1.000000</td>\n",
       "      <td>9</td>\n",
       "      <td>3</td>\n",
       "      <td>5</td>\n",
       "      <td>1</td>\n",
       "      <td>974</td>\n",
       "      <td>04</td>\n",
       "    </tr>\n",
       "    <tr>\n",
       "      <th>73641</th>\n",
       "      <td>97424</td>\n",
       "      <td>200900072573</td>\n",
       "      <td>905199</td>\n",
       "      <td>20090116221500</td>\n",
       "      <td>55.46970</td>\n",
       "      <td>-21.1367</td>\n",
       "      <td>15</td>\n",
       "      <td>2</td>\n",
       "      <td>4</td>\n",
       "      <td>3</td>\n",
       "      <td>...</td>\n",
       "      <td>1</td>\n",
       "      <td>1982.0</td>\n",
       "      <td>27.0</td>\n",
       "      <td>1.000000</td>\n",
       "      <td>6</td>\n",
       "      <td>2</td>\n",
       "      <td>5</td>\n",
       "      <td>3</td>\n",
       "      <td>974</td>\n",
       "      <td>04</td>\n",
       "    </tr>\n",
       "    <tr>\n",
       "      <th>73642</th>\n",
       "      <td>97424</td>\n",
       "      <td>200900073058</td>\n",
       "      <td>906211</td>\n",
       "      <td>20090621190000</td>\n",
       "      <td>55.46970</td>\n",
       "      <td>-21.1367</td>\n",
       "      <td>3</td>\n",
       "      <td>1</td>\n",
       "      <td>4</td>\n",
       "      <td>3</td>\n",
       "      <td>...</td>\n",
       "      <td>1</td>\n",
       "      <td>1959.0</td>\n",
       "      <td>50.0</td>\n",
       "      <td>1.000000</td>\n",
       "      <td>0</td>\n",
       "      <td>0</td>\n",
       "      <td>5</td>\n",
       "      <td>1</td>\n",
       "      <td>974</td>\n",
       "      <td>04</td>\n",
       "    </tr>\n",
       "  </tbody>\n",
       "</table>\n",
       "<p>100 rows × 21 columns</p>\n",
       "</div>"
      ],
      "text/plain": [
       "      id_code_insee       Num_Acc  id_usa            date  latitude.x  \\\n",
       "73543         97416  200900072581  905216  20090125165500     6.87387   \n",
       "73544         97416  200900074573  909551  20091029081500     6.87387   \n",
       "73545         97416  200900072724  905477  20090323191500     6.87387   \n",
       "73546         97416  200900073649  907567  20090726171500     6.87387   \n",
       "73547         97416  200900074565  909534  20091208080000     6.87387   \n",
       "...             ...           ...     ...             ...         ...   \n",
       "73638         97423  200900073933  908050  20090810131500    55.29520   \n",
       "73639         97423  200900072904  905890  20090506063000    55.29520   \n",
       "73640         97424  200900073058  906209  20090621190000    55.46970   \n",
       "73641         97424  200900072573  905199  20090116221500    55.46970   \n",
       "73642         97424  200900073058  906211  20090621190000    55.46970   \n",
       "\n",
       "       longitude.x  descr_cat_veh  descr_agglo  descr_athmo  descr_lum  ...  \\\n",
       "73543      43.6566              3            2            4          2  ...   \n",
       "73544      43.6566              3            2            4          2  ...   \n",
       "73545      43.6566             17            1            4          3  ...   \n",
       "73546      43.6566              3            1            4          2  ...   \n",
       "73547      43.6566              3            1            4          2  ...   \n",
       "...            ...            ...          ...          ...        ...  ...   \n",
       "73638     -21.1059             15            1            4          2  ...   \n",
       "73639     -21.1059              2            1            4          1  ...   \n",
       "73640     -21.1367             17            1            4          3  ...   \n",
       "73641     -21.1367             15            2            4          3  ...   \n",
       "73642     -21.1367              3            1            4          3  ...   \n",
       "\n",
       "       description_intersection  an_nais   age     place  descr_dispo_secu  \\\n",
       "73543                         1   1967.0  42.0  1.204853                 7   \n",
       "73544                         1   1947.0  62.0  1.204853                 7   \n",
       "73545                         1   1992.0  17.0  1.000000                 5   \n",
       "73546                         1   1986.0  23.0  1.000000                 0   \n",
       "73547                         1   1961.0  48.0  1.000000                 4   \n",
       "...                         ...      ...   ...       ...               ...   \n",
       "73638                         1   1979.0  30.0  1.000000                 1   \n",
       "73639                         1   1953.0  56.0  1.000000                 0   \n",
       "73640                         1   1962.0  47.0  1.000000                 9   \n",
       "73641                         1   1982.0  27.0  1.000000                 6   \n",
       "73642                         1   1959.0  50.0  1.000000                 0   \n",
       "\n",
       "       descr_grav  descr_motif_traj  descr_type_col  department_number  \\\n",
       "73543           1                 9               0                974   \n",
       "73544           2                 9               3                974   \n",
       "73545           1                 5               4                974   \n",
       "73546           0                 5               4                974   \n",
       "73547           0                 9               4                974   \n",
       "...           ...               ...             ...                ...   \n",
       "73638           2                 5               1                974   \n",
       "73639           0                 1               1                974   \n",
       "73640           3                 5               1                974   \n",
       "73641           2                 5               3                974   \n",
       "73642           0                 5               1                974   \n",
       "\n",
       "      region_number  \n",
       "73543            04  \n",
       "73544            04  \n",
       "73545            04  \n",
       "73546            04  \n",
       "73547            04  \n",
       "...             ...  \n",
       "73638            04  \n",
       "73639            04  \n",
       "73640            04  \n",
       "73641            04  \n",
       "73642            04  \n",
       "\n",
       "[100 rows x 21 columns]"
      ]
     },
     "execution_count": 14,
     "metadata": {},
     "output_type": "execute_result"
    }
   ],
   "source": [
    "dataframe.tail(100)"
   ]
  },
  {
   "cell_type": "code",
   "execution_count": 15,
   "metadata": {},
   "outputs": [],
   "source": [
    "# On défini les valeurs de la colonne 'id_code_insee', 'department_number' et 'region_number' en entier\n",
    "\n",
    "dataframe['id_code_insee'] = dataframe['id_code_insee'].astype(int)\n",
    "dataframe['department_number'] = dataframe['department_number'].astype(int)\n",
    "dataframe['region_number'] = dataframe['region_number'].astype(int)"
   ]
  }
 ],
 "metadata": {
  "kernelspec": {
   "display_name": "Python 3",
   "language": "python",
   "name": "python3"
  },
  "language_info": {
   "codemirror_mode": {
    "name": "ipython",
    "version": 3
   },
   "file_extension": ".py",
   "mimetype": "text/x-python",
   "name": "python",
   "nbconvert_exporter": "python",
   "pygments_lexer": "ipython3",
   "version": "3.11.2"
  },
  "orig_nbformat": 4
 },
 "nbformat": 4,
 "nbformat_minor": 2
}
