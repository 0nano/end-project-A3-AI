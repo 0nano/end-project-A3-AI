{
 "cells": [
  {
   "cell_type": "code",
   "execution_count": 50,
   "metadata": {},
   "outputs": [],
   "source": [
    "############################## IMPORTS ##############################\n",
    "import pandas as pd\n",
    "import numpy as np\n",
    "import matplotlib.pyplot as plt"
   ]
  },
  {
   "attachments": {},
   "cell_type": "markdown",
   "metadata": {},
   "source": [
    "# Organisation des données"
   ]
  },
  {
   "cell_type": "code",
   "execution_count": 51,
   "metadata": {},
   "outputs": [],
   "source": [
    "#convertir le csv en pandas dataframe\n",
    "dataframe = pd.read_csv('export_IA.csv', sep=',')"
   ]
  },
  {
   "attachments": {},
   "cell_type": "markdown",
   "metadata": {},
   "source": [
    "# Découverte des données"
   ]
  },
  {
   "attachments": {},
   "cell_type": "markdown",
   "metadata": {},
   "source": [
    "### Valeur cible (gravité de l’accident) pour la classification = classe"
   ]
  },
  {
   "cell_type": "code",
   "execution_count": 52,
   "metadata": {},
   "outputs": [
    {
     "name": "stdout",
     "output_type": "stream",
     "text": [
      "Valeur cible 1 :  id_code_insee  -  8259\n",
      "Valeur cible 2 :  Num_Acc  -  40250\n",
      "Valeur cible 3 :  num_veh  -  58\n",
      "Valeur cible 4 :  id_usa  -  73643\n",
      "Valeur cible 5 :  date  -  29950\n",
      "Valeur cible 6 :  ville  -  8078\n",
      "Valeur cible 7 :  latitude.x  -  1253\n",
      "Valeur cible 8 :  longitude.x  -  1495\n",
      "Valeur cible 9 :  descr_cat_veh  -  24\n",
      "Valeur cible 10 :  descr_agglo  -  2\n",
      "Valeur cible 11 :  descr_athmo  -  9\n",
      "Valeur cible 12 :  descr_lum  -  5\n",
      "Valeur cible 13 :  descr_etat_surf  -  9\n",
      "Valeur cible 14 :  description_intersection  -  9\n",
      "Valeur cible 15 :  an_nais  -  101\n",
      "Valeur cible 16 :  age  -  101\n",
      "Valeur cible 17 :  place  -  10\n",
      "Valeur cible 18 :  descr_dispo_secu  -  15\n",
      "Valeur cible 19 :  descr_grav  -  4\n",
      "Valeur cible 20 :  descr_motif_traj  -  6\n",
      "Valeur cible 21 :  descr_type_col  -  7\n",
      "Valeur cible 22 :  department_name  -  89\n",
      "Valeur cible 23 :  department_number  -  90\n",
      "Valeur cible 24 :  region_name  -  17\n"
     ]
    }
   ],
   "source": [
    "#compte les différents résultats pour chaque colonne\n",
    "for i in range(len(dataframe.columns)):\n",
    "    print(\"Valeur cible\", i+1,  \": \", dataframe.columns[i], \" - \", len(dataframe[dataframe.columns[i]].unique()))"
   ]
  },
  {
   "attachments": {},
   "cell_type": "markdown",
   "metadata": {},
   "source": [
    "### Nombre d'instances"
   ]
  },
  {
   "cell_type": "code",
   "execution_count": 53,
   "metadata": {},
   "outputs": [
    {
     "name": "stdout",
     "output_type": "stream",
     "text": [
      "Nombre d'instances :  73643\n"
     ]
    }
   ],
   "source": [
    "#compte le nombre d'instances et renvoie juste le nombre\n",
    "print(\"Nombre d'instances : \", len(dataframe.index))"
   ]
  },
  {
   "attachments": {},
   "cell_type": "markdown",
   "metadata": {},
   "source": [
    "### Nombre d'instances par classe"
   ]
  },
  {
   "cell_type": "code",
   "execution_count": 54,
   "metadata": {},
   "outputs": [
    {
     "data": {
      "text/plain": [
       "<AxesSubplot:xlabel='descr_grav'>"
      ]
     },
     "execution_count": 54,
     "metadata": {},
     "output_type": "execute_result"
    },
    {
     "data": {
      "image/png": "[encoded data removed]",
      "text/plain": [
       "<Figure size 640x480 with 1 Axes>"
      ]
     },
     "metadata": {},
     "output_type": "display_data"
    }
   ],
   "source": [
    "\n",
    "#creer un tableau qui affiche les données selon les descr_grav\n",
    "graphique1 = dataframe.groupby('descr_grav').size()\n",
    "#représenter en graphique \n",
    "graphique1.plot.bar()"
   ]
  },
  {
   "attachments": {},
   "cell_type": "markdown",
   "metadata": {},
   "source": [
    "### Taille des features"
   ]
  },
  {
   "cell_type": "code",
   "execution_count": 55,
   "metadata": {},
   "outputs": [
    {
     "name": "stdout",
     "output_type": "stream",
     "text": [
      "Taille des features :  23\n"
     ]
    }
   ],
   "source": [
    "# Taille des features\n",
    "print(\"Taille des features : \", len(dataframe.columns)-1)"
   ]
  },
  {
   "attachments": {},
   "cell_type": "markdown",
   "metadata": {},
   "source": [
    "# Préparation des données"
   ]
  },
  {
   "cell_type": "code",
   "execution_count": 57,
   "metadata": {},
   "outputs": [
    {
     "name": "stdout",
     "output_type": "stream",
     "text": [
      "  id_code_insee       Num_Acc num_veh  id_usa            date  \\\n",
      "0         10100  200900035904     A01  823507  20090803130000   \n",
      "1         10100  200900004313     A01  752937  20090227223000   \n",
      "2         10102  200900005197     A01  754945  20090113160000   \n",
      "3         10102  200900005197     B02  754947  20090113160000   \n",
      "4         10102  200900005206     A01  754970  20090209201500   \n",
      "\n",
      "              ville  latitude.x  longitude.x  descr_cat_veh  descr_agglo  ...  \\\n",
      "0            CLEREY     48.2000          4.2              2            1  ...   \n",
      "1            CLEREY     48.2000          4.2              3            2  ...   \n",
      "2  COLOMBE LA FOSSE     48.2667          4.8              3            2  ...   \n",
      "3  COLOMBE LA FOSSE     48.2667          4.8              3            2  ...   \n",
      "4  COLOMBE LA FOSSE     48.2667          4.8              6            2  ...   \n",
      "\n",
      "   an_nais   age  place                         descr_dispo_secu  descr_grav  \\\n",
      "0   1952.0  57.0    1.0  Utilisation d'une ceinture de sécurité            0   \n",
      "1   1952.0  57.0    1.0  Utilisation d'une ceinture de sécurité            2   \n",
      "2   1969.0  40.0    1.0  Utilisation d'une ceinture de sécurité            2   \n",
      "3   1939.0  70.0    1.0  Utilisation d'une ceinture de sécurité            0   \n",
      "4   1966.0  43.0    1.0                 Utilisation d'un casque            1   \n",
      "\n",
      "   descr_motif_traj                descr_type_col department_name  \\\n",
      "0                 1               Autre collision            aube   \n",
      "1                 9     Deux véhicules - Frontale            aube   \n",
      "2                 5  Deux véhicules – Par le coté            aube   \n",
      "3                 5  Deux véhicules – Par le coté            aube   \n",
      "4                 1                Sans collision            aube   \n",
      "\n",
      "   department_number  region_name  \n",
      "0                 10    grand est  \n",
      "1                 10    grand est  \n",
      "2                 10    grand est  \n",
      "3                 10    grand est  \n",
      "4                 10    grand est  \n",
      "\n",
      "[5 rows x 24 columns]\n"
     ]
    }
   ],
   "source": [
    "# préparation des données, conversions des dates et des heures en entier sans les séparateurs\n",
    "dataframe['date'] = pd.to_datetime(dataframe['date'], format='%Y-%m-%d %H:%M:%S').dt.strftime('%Y%m%d%H%M%S').astype(int)\n",
    "\n",
    "print(dataframe.head())"
   ]
  }
 ],
 "metadata": {
  "kernelspec": {
   "display_name": "Python 3",
   "language": "python",
   "name": "python3"
  },
  "language_info": {
   "codemirror_mode": {
    "name": "ipython",
    "version": 3
   },
   "file_extension": ".py",
   "mimetype": "text/x-python",
   "name": "python",
   "nbconvert_exporter": "python",
   "pygments_lexer": "ipython3",
   "version": "3.7.3"
  },
  "orig_nbformat": 4
 },
 "nbformat": 4,
 "nbformat_minor": 2
}
